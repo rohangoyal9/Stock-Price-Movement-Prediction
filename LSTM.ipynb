{
  "nbformat": 4,
  "nbformat_minor": 0,
  "metadata": {
    "colab": {
      "name": "LSTM.ipynb",
      "provenance": [],
      "collapsed_sections": []
    },
    "kernelspec": {
      "name": "python3",
      "display_name": "Python 3"
    }
  },
  "cells": [
    {
      "cell_type": "markdown",
      "metadata": {
        "id": "u7BxW7BAumQD"
      },
      "source": [
        "# Deep Learning: Long Short-Term Memory (LSTM)\n",
        "\n",
        "\n",
        "## 1. Introduction\n",
        "\n",
        "Five years of Reliance Industries' historical stock data will be used to predict Adjusted Close prices by building a multi-layer LSTM Recurrent Neural Network model. The ability to store information over a period of time is useful when dealing with time series data. \n",
        "\n"
      ]
    },
    {
      "cell_type": "markdown",
      "metadata": {
        "id": "xn8Jn7bYyaw0"
      },
      "source": [
        "## 2. Install/import libraries"
      ]
    },
    {
      "cell_type": "code",
      "metadata": {
        "id": "vHuikd56lgGy"
      },
      "source": [
        "!pip install yfinance "
      ],
      "execution_count": null,
      "outputs": []
    },
    {
      "cell_type": "code",
      "metadata": {
        "id": "_qB4iVXillcc"
      },
      "source": [
        "import yfinance as yf\n",
        "\n",
        "import pandas as pd\n",
        "import numpy as np\n",
        "import matplotlib.pyplot as plt\n",
        "import matplotlib.dates as dates\n",
        "import seaborn as sns\n",
        "import math\n",
        "import datetime\n",
        "import keras\n",
        "import warnings\n",
        "warnings.filterwarnings('ignore')\n",
        "\n",
        "from datetime import date, timedelta\n",
        "from keras.models import Sequential\n",
        "from keras.layers import Dense\n",
        "from keras.layers import LSTM\n",
        "from keras.layers import Dropout\n",
        "from keras.layers import *\n",
        "from keras.callbacks import EarlyStopping\n",
        "from sklearn.preprocessing import MinMaxScaler\n",
        "from sklearn.metrics import mean_squared_error\n",
        "from sklearn.metrics import mean_absolute_error\n",
        "\n",
        "%matplotlib inline"
      ],
      "execution_count": 3,
      "outputs": []
    },
    {
      "cell_type": "markdown",
      "metadata": {
        "id": "Da8bAEfYyn8K"
      },
      "source": [
        "## 3. Import data\n",
        "\n",
        "Read in RELIANCE INDUSTRIES' stock data for 2016-2021 downloaded from Yahoo! Finance using yfinance API into a pandas DataFrame."
      ]
    },
    {
      "cell_type": "code",
      "metadata": {
        "colab": {
          "base_uri": "https://localhost:8080/",
          "height": 473
        },
        "id": "inrpv-spl23s",
        "outputId": "696ed27b-1beb-4230-c9bc-6562bcc6316e"
      },
      "source": [
        "rel_df = yf.download(\"RELIANCE.NS\", start=\"2016-07-10\", end=\"2021-07-11\")\n",
        "rel_df"
      ],
      "execution_count": 4,
      "outputs": [
        {
          "output_type": "stream",
          "name": "stdout",
          "text": [
            "\r[*********************100%***********************]  1 of 1 completed\n"
          ]
        },
        {
          "output_type": "execute_result",
          "data": {
            "text/plain": [
              "                   Open         High          Low        Close    Adj Close  \\\n",
              "Date                                                                          \n",
              "2016-07-11   490.847260   492.803711   488.123077   491.590210   479.004242   \n",
              "2016-07-12   492.952301   497.781525   490.847260   496.989044   484.264832   \n",
              "2016-07-13   497.880585   503.576599   497.360504   499.638916   486.846863   \n",
              "2016-07-14   499.316986   502.288818   494.438232   497.731995   484.988770   \n",
              "2016-07-15   499.762756   505.706421   497.038574   501.347717   488.511902   \n",
              "...                 ...          ...          ...          ...          ...   \n",
              "2021-07-05  2136.449951  2153.550049  2131.500000  2150.199951  2150.199951   \n",
              "2021-07-06  2144.949951  2148.899902  2120.199951  2124.800049  2124.800049   \n",
              "2021-07-07  2127.750000  2127.750000  2098.000000  2110.050049  2110.050049   \n",
              "2021-07-08  2116.949951  2116.949951  2081.000000  2092.600098  2092.600098   \n",
              "2021-07-09  2088.000000  2091.699951  2066.100098  2071.199951  2071.199951   \n",
              "\n",
              "             Volume  \n",
              "Date                 \n",
              "2016-07-11  3815035  \n",
              "2016-07-12  4507697  \n",
              "2016-07-13  6883407  \n",
              "2016-07-14  4964987  \n",
              "2016-07-15  6457762  \n",
              "...             ...  \n",
              "2021-07-05  5400604  \n",
              "2021-07-06  4647361  \n",
              "2021-07-07  4824931  \n",
              "2021-07-08  5162088  \n",
              "2021-07-09  4170886  \n",
              "\n",
              "[1235 rows x 6 columns]"
            ],
            "text/html": [
              "\n",
              "  <div id=\"df-1201c069-ff32-422f-a05b-deecc5ce3f10\">\n",
              "    <div class=\"colab-df-container\">\n",
              "      <div>\n",
              "<style scoped>\n",
              "    .dataframe tbody tr th:only-of-type {\n",
              "        vertical-align: middle;\n",
              "    }\n",
              "\n",
              "    .dataframe tbody tr th {\n",
              "        vertical-align: top;\n",
              "    }\n",
              "\n",
              "    .dataframe thead th {\n",
              "        text-align: right;\n",
              "    }\n",
              "</style>\n",
              "<table border=\"1\" class=\"dataframe\">\n",
              "  <thead>\n",
              "    <tr style=\"text-align: right;\">\n",
              "      <th></th>\n",
              "      <th>Open</th>\n",
              "      <th>High</th>\n",
              "      <th>Low</th>\n",
              "      <th>Close</th>\n",
              "      <th>Adj Close</th>\n",
              "      <th>Volume</th>\n",
              "    </tr>\n",
              "    <tr>\n",
              "      <th>Date</th>\n",
              "      <th></th>\n",
              "      <th></th>\n",
              "      <th></th>\n",
              "      <th></th>\n",
              "      <th></th>\n",
              "      <th></th>\n",
              "    </tr>\n",
              "  </thead>\n",
              "  <tbody>\n",
              "    <tr>\n",
              "      <th>2016-07-11</th>\n",
              "      <td>490.847260</td>\n",
              "      <td>492.803711</td>\n",
              "      <td>488.123077</td>\n",
              "      <td>491.590210</td>\n",
              "      <td>479.004242</td>\n",
              "      <td>3815035</td>\n",
              "    </tr>\n",
              "    <tr>\n",
              "      <th>2016-07-12</th>\n",
              "      <td>492.952301</td>\n",
              "      <td>497.781525</td>\n",
              "      <td>490.847260</td>\n",
              "      <td>496.989044</td>\n",
              "      <td>484.264832</td>\n",
              "      <td>4507697</td>\n",
              "    </tr>\n",
              "    <tr>\n",
              "      <th>2016-07-13</th>\n",
              "      <td>497.880585</td>\n",
              "      <td>503.576599</td>\n",
              "      <td>497.360504</td>\n",
              "      <td>499.638916</td>\n",
              "      <td>486.846863</td>\n",
              "      <td>6883407</td>\n",
              "    </tr>\n",
              "    <tr>\n",
              "      <th>2016-07-14</th>\n",
              "      <td>499.316986</td>\n",
              "      <td>502.288818</td>\n",
              "      <td>494.438232</td>\n",
              "      <td>497.731995</td>\n",
              "      <td>484.988770</td>\n",
              "      <td>4964987</td>\n",
              "    </tr>\n",
              "    <tr>\n",
              "      <th>2016-07-15</th>\n",
              "      <td>499.762756</td>\n",
              "      <td>505.706421</td>\n",
              "      <td>497.038574</td>\n",
              "      <td>501.347717</td>\n",
              "      <td>488.511902</td>\n",
              "      <td>6457762</td>\n",
              "    </tr>\n",
              "    <tr>\n",
              "      <th>...</th>\n",
              "      <td>...</td>\n",
              "      <td>...</td>\n",
              "      <td>...</td>\n",
              "      <td>...</td>\n",
              "      <td>...</td>\n",
              "      <td>...</td>\n",
              "    </tr>\n",
              "    <tr>\n",
              "      <th>2021-07-05</th>\n",
              "      <td>2136.449951</td>\n",
              "      <td>2153.550049</td>\n",
              "      <td>2131.500000</td>\n",
              "      <td>2150.199951</td>\n",
              "      <td>2150.199951</td>\n",
              "      <td>5400604</td>\n",
              "    </tr>\n",
              "    <tr>\n",
              "      <th>2021-07-06</th>\n",
              "      <td>2144.949951</td>\n",
              "      <td>2148.899902</td>\n",
              "      <td>2120.199951</td>\n",
              "      <td>2124.800049</td>\n",
              "      <td>2124.800049</td>\n",
              "      <td>4647361</td>\n",
              "    </tr>\n",
              "    <tr>\n",
              "      <th>2021-07-07</th>\n",
              "      <td>2127.750000</td>\n",
              "      <td>2127.750000</td>\n",
              "      <td>2098.000000</td>\n",
              "      <td>2110.050049</td>\n",
              "      <td>2110.050049</td>\n",
              "      <td>4824931</td>\n",
              "    </tr>\n",
              "    <tr>\n",
              "      <th>2021-07-08</th>\n",
              "      <td>2116.949951</td>\n",
              "      <td>2116.949951</td>\n",
              "      <td>2081.000000</td>\n",
              "      <td>2092.600098</td>\n",
              "      <td>2092.600098</td>\n",
              "      <td>5162088</td>\n",
              "    </tr>\n",
              "    <tr>\n",
              "      <th>2021-07-09</th>\n",
              "      <td>2088.000000</td>\n",
              "      <td>2091.699951</td>\n",
              "      <td>2066.100098</td>\n",
              "      <td>2071.199951</td>\n",
              "      <td>2071.199951</td>\n",
              "      <td>4170886</td>\n",
              "    </tr>\n",
              "  </tbody>\n",
              "</table>\n",
              "<p>1235 rows × 6 columns</p>\n",
              "</div>\n",
              "      <button class=\"colab-df-convert\" onclick=\"convertToInteractive('df-1201c069-ff32-422f-a05b-deecc5ce3f10')\"\n",
              "              title=\"Convert this dataframe to an interactive table.\"\n",
              "              style=\"display:none;\">\n",
              "        \n",
              "  <svg xmlns=\"http://www.w3.org/2000/svg\" height=\"24px\"viewBox=\"0 0 24 24\"\n",
              "       width=\"24px\">\n",
              "    <path d=\"M0 0h24v24H0V0z\" fill=\"none\"/>\n",
              "    <path d=\"M18.56 5.44l.94 2.06.94-2.06 2.06-.94-2.06-.94-.94-2.06-.94 2.06-2.06.94zm-11 1L8.5 8.5l.94-2.06 2.06-.94-2.06-.94L8.5 2.5l-.94 2.06-2.06.94zm10 10l.94 2.06.94-2.06 2.06-.94-2.06-.94-.94-2.06-.94 2.06-2.06.94z\"/><path d=\"M17.41 7.96l-1.37-1.37c-.4-.4-.92-.59-1.43-.59-.52 0-1.04.2-1.43.59L10.3 9.45l-7.72 7.72c-.78.78-.78 2.05 0 2.83L4 21.41c.39.39.9.59 1.41.59.51 0 1.02-.2 1.41-.59l7.78-7.78 2.81-2.81c.8-.78.8-2.07 0-2.86zM5.41 20L4 18.59l7.72-7.72 1.47 1.35L5.41 20z\"/>\n",
              "  </svg>\n",
              "      </button>\n",
              "      \n",
              "  <style>\n",
              "    .colab-df-container {\n",
              "      display:flex;\n",
              "      flex-wrap:wrap;\n",
              "      gap: 12px;\n",
              "    }\n",
              "\n",
              "    .colab-df-convert {\n",
              "      background-color: #E8F0FE;\n",
              "      border: none;\n",
              "      border-radius: 50%;\n",
              "      cursor: pointer;\n",
              "      display: none;\n",
              "      fill: #1967D2;\n",
              "      height: 32px;\n",
              "      padding: 0 0 0 0;\n",
              "      width: 32px;\n",
              "    }\n",
              "\n",
              "    .colab-df-convert:hover {\n",
              "      background-color: #E2EBFA;\n",
              "      box-shadow: 0px 1px 2px rgba(60, 64, 67, 0.3), 0px 1px 3px 1px rgba(60, 64, 67, 0.15);\n",
              "      fill: #174EA6;\n",
              "    }\n",
              "\n",
              "    [theme=dark] .colab-df-convert {\n",
              "      background-color: #3B4455;\n",
              "      fill: #D2E3FC;\n",
              "    }\n",
              "\n",
              "    [theme=dark] .colab-df-convert:hover {\n",
              "      background-color: #434B5C;\n",
              "      box-shadow: 0px 1px 3px 1px rgba(0, 0, 0, 0.15);\n",
              "      filter: drop-shadow(0px 1px 2px rgba(0, 0, 0, 0.3));\n",
              "      fill: #FFFFFF;\n",
              "    }\n",
              "  </style>\n",
              "\n",
              "      <script>\n",
              "        const buttonEl =\n",
              "          document.querySelector('#df-1201c069-ff32-422f-a05b-deecc5ce3f10 button.colab-df-convert');\n",
              "        buttonEl.style.display =\n",
              "          google.colab.kernel.accessAllowed ? 'block' : 'none';\n",
              "\n",
              "        async function convertToInteractive(key) {\n",
              "          const element = document.querySelector('#df-1201c069-ff32-422f-a05b-deecc5ce3f10');\n",
              "          const dataTable =\n",
              "            await google.colab.kernel.invokeFunction('convertToInteractive',\n",
              "                                                     [key], {});\n",
              "          if (!dataTable) return;\n",
              "\n",
              "          const docLinkHtml = 'Like what you see? Visit the ' +\n",
              "            '<a target=\"_blank\" href=https://colab.research.google.com/notebooks/data_table.ipynb>data table notebook</a>'\n",
              "            + ' to learn more about interactive tables.';\n",
              "          element.innerHTML = '';\n",
              "          dataTable['output_type'] = 'display_data';\n",
              "          await google.colab.output.renderOutput(dataTable, element);\n",
              "          const docLink = document.createElement('div');\n",
              "          docLink.innerHTML = docLinkHtml;\n",
              "          element.appendChild(docLink);\n",
              "        }\n",
              "      </script>\n",
              "    </div>\n",
              "  </div>\n",
              "  "
            ]
          },
          "metadata": {},
          "execution_count": 4
        }
      ]
    },
    {
      "cell_type": "code",
      "metadata": {
        "colab": {
          "base_uri": "https://localhost:8080/",
          "height": 295
        },
        "id": "DLWTn0BOzOdb",
        "outputId": "a2c9da44-79ca-43ef-f7b3-0deed22a2b28"
      },
      "source": [
        "# Plot Adjusted Close price\n",
        "\n",
        "rel_df['Adj Close'].plot(grid = True)\n",
        "sns.set(rc={'figure.figsize':(16, 8)})\n",
        "plt.title('AZN.L Adjusted Close Price', color = 'black', fontsize = 20)\n",
        "plt.xlabel('Year', color = 'black', fontsize = 15)\n",
        "plt.ylabel('Stock price', color = 'black', fontsize = 15);"
      ],
      "execution_count": 5,
      "outputs": [
        {
          "output_type": "display_data",
          "data": {
            "text/plain": [
              "<Figure size 432x288 with 1 Axes>"
            ],
            "image/png": "[encoded data removed]"
          },
          "metadata": {
            "needs_background": "light"
          }
        }
      ]
    },
    {
      "cell_type": "code",
      "metadata": {
        "id": "GTjKt62v1NkL"
      },
      "source": [
        "# Create DataFrame for Adjusted Close price\n",
        "\n",
        "rel_adj = rel_df[['Adj Close']]"
      ],
      "execution_count": 6,
      "outputs": []
    },
    {
      "cell_type": "code",
      "metadata": {
        "colab": {
          "base_uri": "https://localhost:8080/",
          "height": 237
        },
        "id": "wOQIDp-a1U-y",
        "outputId": "48aaaf95-4d5f-42e8-b1f7-de59b2d27ac5"
      },
      "source": [
        "rel_adj.head()"
      ],
      "execution_count": 9,
      "outputs": [
        {
          "output_type": "execute_result",
          "data": {
            "text/plain": [
              "             Adj Close\n",
              "Date                  \n",
              "2016-07-11  479.004242\n",
              "2016-07-12  484.264832\n",
              "2016-07-13  486.846863\n",
              "2016-07-14  484.988770\n",
              "2016-07-15  488.511902"
            ],
            "text/html": [
              "\n",
              "  <div id=\"df-f6260dd0-0433-4d6e-9c30-0c225cd2a84d\">\n",
              "    <div class=\"colab-df-container\">\n",
              "      <div>\n",
              "<style scoped>\n",
              "    .dataframe tbody tr th:only-of-type {\n",
              "        vertical-align: middle;\n",
              "    }\n",
              "\n",
              "    .dataframe tbody tr th {\n",
              "        vertical-align: top;\n",
              "    }\n",
              "\n",
              "    .dataframe thead th {\n",
              "        text-align: right;\n",
              "    }\n",
              "</style>\n",
              "<table border=\"1\" class=\"dataframe\">\n",
              "  <thead>\n",
              "    <tr style=\"text-align: right;\">\n",
              "      <th></th>\n",
              "      <th>Adj Close</th>\n",
              "    </tr>\n",
              "    <tr>\n",
              "      <th>Date</th>\n",
              "      <th></th>\n",
              "    </tr>\n",
              "  </thead>\n",
              "  <tbody>\n",
              "    <tr>\n",
              "      <th>2016-07-11</th>\n",
              "      <td>479.004242</td>\n",
              "    </tr>\n",
              "    <tr>\n",
              "      <th>2016-07-12</th>\n",
              "      <td>484.264832</td>\n",
              "    </tr>\n",
              "    <tr>\n",
              "      <th>2016-07-13</th>\n",
              "      <td>486.846863</td>\n",
              "    </tr>\n",
              "    <tr>\n",
              "      <th>2016-07-14</th>\n",
              "      <td>484.988770</td>\n",
              "    </tr>\n",
              "    <tr>\n",
              "      <th>2016-07-15</th>\n",
              "      <td>488.511902</td>\n",
              "    </tr>\n",
              "  </tbody>\n",
              "</table>\n",
              "</div>\n",
              "      <button class=\"colab-df-convert\" onclick=\"convertToInteractive('df-f6260dd0-0433-4d6e-9c30-0c225cd2a84d')\"\n",
              "              title=\"Convert this dataframe to an interactive table.\"\n",
              "              style=\"display:none;\">\n",
              "        \n",
              "  <svg xmlns=\"http://www.w3.org/2000/svg\" height=\"24px\"viewBox=\"0 0 24 24\"\n",
              "       width=\"24px\">\n",
              "    <path d=\"M0 0h24v24H0V0z\" fill=\"none\"/>\n",
              "    <path d=\"M18.56 5.44l.94 2.06.94-2.06 2.06-.94-2.06-.94-.94-2.06-.94 2.06-2.06.94zm-11 1L8.5 8.5l.94-2.06 2.06-.94-2.06-.94L8.5 2.5l-.94 2.06-2.06.94zm10 10l.94 2.06.94-2.06 2.06-.94-2.06-.94-.94-2.06-.94 2.06-2.06.94z\"/><path d=\"M17.41 7.96l-1.37-1.37c-.4-.4-.92-.59-1.43-.59-.52 0-1.04.2-1.43.59L10.3 9.45l-7.72 7.72c-.78.78-.78 2.05 0 2.83L4 21.41c.39.39.9.59 1.41.59.51 0 1.02-.2 1.41-.59l7.78-7.78 2.81-2.81c.8-.78.8-2.07 0-2.86zM5.41 20L4 18.59l7.72-7.72 1.47 1.35L5.41 20z\"/>\n",
              "  </svg>\n",
              "      </button>\n",
              "      \n",
              "  <style>\n",
              "    .colab-df-container {\n",
              "      display:flex;\n",
              "      flex-wrap:wrap;\n",
              "      gap: 12px;\n",
              "    }\n",
              "\n",
              "    .colab-df-convert {\n",
              "      background-color: #E8F0FE;\n",
              "      border: none;\n",
              "      border-radius: 50%;\n",
              "      cursor: pointer;\n",
              "      display: none;\n",
              "      fill: #1967D2;\n",
              "      height: 32px;\n",
              "      padding: 0 0 0 0;\n",
              "      width: 32px;\n",
              "    }\n",
              "\n",
              "    .colab-df-convert:hover {\n",
              "      background-color: #E2EBFA;\n",
              "      box-shadow: 0px 1px 2px rgba(60, 64, 67, 0.3), 0px 1px 3px 1px rgba(60, 64, 67, 0.15);\n",
              "      fill: #174EA6;\n",
              "    }\n",
              "\n",
              "    [theme=dark] .colab-df-convert {\n",
              "      background-color: #3B4455;\n",
              "      fill: #D2E3FC;\n",
              "    }\n",
              "\n",
              "    [theme=dark] .colab-df-convert:hover {\n",
              "      background-color: #434B5C;\n",
              "      box-shadow: 0px 1px 3px 1px rgba(0, 0, 0, 0.15);\n",
              "      filter: drop-shadow(0px 1px 2px rgba(0, 0, 0, 0.3));\n",
              "      fill: #FFFFFF;\n",
              "    }\n",
              "  </style>\n",
              "\n",
              "      <script>\n",
              "        const buttonEl =\n",
              "          document.querySelector('#df-f6260dd0-0433-4d6e-9c30-0c225cd2a84d button.colab-df-convert');\n",
              "        buttonEl.style.display =\n",
              "          google.colab.kernel.accessAllowed ? 'block' : 'none';\n",
              "\n",
              "        async function convertToInteractive(key) {\n",
              "          const element = document.querySelector('#df-f6260dd0-0433-4d6e-9c30-0c225cd2a84d');\n",
              "          const dataTable =\n",
              "            await google.colab.kernel.invokeFunction('convertToInteractive',\n",
              "                                                     [key], {});\n",
              "          if (!dataTable) return;\n",
              "\n",
              "          const docLinkHtml = 'Like what you see? Visit the ' +\n",
              "            '<a target=\"_blank\" href=https://colab.research.google.com/notebooks/data_table.ipynb>data table notebook</a>'\n",
              "            + ' to learn more about interactive tables.';\n",
              "          element.innerHTML = '';\n",
              "          dataTable['output_type'] = 'display_data';\n",
              "          await google.colab.output.renderOutput(dataTable, element);\n",
              "          const docLink = document.createElement('div');\n",
              "          docLink.innerHTML = docLinkHtml;\n",
              "          element.appendChild(docLink);\n",
              "        }\n",
              "      </script>\n",
              "    </div>\n",
              "  </div>\n",
              "  "
            ]
          },
          "metadata": {},
          "execution_count": 9
        }
      ]
    },
    {
      "cell_type": "markdown",
      "metadata": {
        "id": "N1zio5Ok1qXE"
      },
      "source": [
        "## 4. Create training data set"
      ]
    },
    {
      "cell_type": "code",
      "metadata": {
        "colab": {
          "base_uri": "https://localhost:8080/"
        },
        "id": "xI8eAVojSd-5",
        "outputId": "5e75dd2c-62a2-40b7-ed9c-df2c9b2683cd"
      },
      "source": [
        "# Convert DataFrame to numpy array\n",
        "rel_adj_arr = rel_adj.values\n",
        "\n",
        "# Find number of rows to train model on (80% of data set) \n",
        "training_data_len = int(0.8*len(rel_adj))\n",
        "\n",
        "training_data_len"
      ],
      "execution_count": 11,
      "outputs": [
        {
          "output_type": "execute_result",
          "data": {
            "text/plain": [
              "988"
            ]
          },
          "metadata": {},
          "execution_count": 11
        }
      ]
    },
    {
      "cell_type": "code",
      "metadata": {
        "id": "zCgW-cwPZBjD"
      },
      "source": [
        "# Create train data set\n",
        "\n",
        "train = rel_adj_arr[0:training_data_len, :]"
      ],
      "execution_count": 12,
      "outputs": []
    },
    {
      "cell_type": "markdown",
      "metadata": {
        "id": "20V7wwx73R_r"
      },
      "source": [
        "### Feature scaling\n",
        "\n",
        "We will normalise the training data before model fitting by converting the values of numeric columns in the data set to a common scale. Scikit-Learn’s MinMaxScaler() function scales the data to values between 0 and 1 which helps boost performance."
      ]
    },
    {
      "cell_type": "code",
      "metadata": {
        "id": "InwRKZSQKH-t"
      },
      "source": [
        "# Normalise the data\n",
        "scaler = MinMaxScaler(feature_range=(0,1))\n",
        "train_scaled = scaler.fit_transform(train)\n",
        "\n",
        "train_scaled"
      ],
      "execution_count": null,
      "outputs": []
    },
    {
      "cell_type": "code",
      "metadata": {
        "colab": {
          "base_uri": "https://localhost:8080/"
        },
        "id": "jq4xU6ArpbWt",
        "outputId": "62b1781f-9d4d-4df4-c365-158af18ef0ae"
      },
      "source": [
        "train_scaled.shape"
      ],
      "execution_count": 17,
      "outputs": [
        {
          "output_type": "execute_result",
          "data": {
            "text/plain": [
              "(988, 1)"
            ]
          },
          "metadata": {},
          "execution_count": 17
        }
      ]
    },
    {
      "cell_type": "markdown",
      "metadata": {
        "id": "7C1bvW-fiAzN"
      },
      "source": [
        "## Split training data into X_train, y_train"
      ]
    },
    {
      "cell_type": "code",
      "metadata": {
        "id": "bGBH9hP_n9Ea"
      },
      "source": [
        "# Creating a data structure with 60 time-steps and 1 output\n",
        "\n",
        "# Split data into X_train and y_train data sets\n",
        "X_train = []\n",
        "y_train = []\n",
        "# Creating a data structure with 60 time-steps and 1 output\n",
        "for i in range(60, len(train_scaled)):\n",
        "    X_train.append(train_scaled[i-60:i, 0])\n",
        "    y_train.append(train_scaled[i:i+1, 0])  \n",
        "    if i <= 61:     # 60 days for first pass, 61 for second\n",
        "      print(X_train)\n",
        "      print(y_train)\n",
        "      print()"
      ],
      "execution_count": null,
      "outputs": []
    },
    {
      "cell_type": "code",
      "metadata": {
        "id": "8qR5ozhTNWRe"
      },
      "source": [
        "# Convert X_train and y_train to numpy arrays for training LSTM model\n",
        "X_train, y_train = np.array(X_train), np.array(y_train)"
      ],
      "execution_count": 19,
      "outputs": []
    },
    {
      "cell_type": "code",
      "metadata": {
        "colab": {
          "base_uri": "https://localhost:8080/"
        },
        "id": "Hg1ntS0FNiUj",
        "outputId": "c37d32d4-622b-4c46-c0a1-235283e08ebd"
      },
      "source": [
        "# Reshape the data as LSTM expects 3-D data (samples, time steps, features)\n",
        "\n",
        "X_train = np.reshape(X_train, (X_train.shape[0], X_train.shape[1], 1))\n",
        "X_train.shape"
      ],
      "execution_count": 20,
      "outputs": [
        {
          "output_type": "execute_result",
          "data": {
            "text/plain": [
              "(928, 60, 1)"
            ]
          },
          "metadata": {},
          "execution_count": 20
        }
      ]
    },
    {
      "cell_type": "markdown",
      "metadata": {
        "id": "eOQRD4UNiGPu"
      },
      "source": [
        "### Create and train model\n",
        "\n",
        "We will create and train a model with four recurrent layers each with 50 neurons, input shape of data with number of time steps (60) and dimensionality (1), and an output layer with time step of 1, and the tanh activation function. Dropout will be used after each hidden layer as a regularisation technique to prevent overfitting. The model will be compiled using the Mean Squared Error loss function and the adam (Adaptive Moment Estimation) optimizer then fitted on the training set for 200 epochs with a batch size of 64."
      ]
    },
    {
      "cell_type": "code",
      "metadata": {
        "colab": {
          "base_uri": "https://localhost:8080/"
        },
        "id": "b006LbSw91vK",
        "outputId": "dc5432d3-0600-413f-eef9-6ccec9af1cfb"
      },
      "source": [
        "# Build model - LSTM with 50 neurons and 4 hidden layers  \n",
        "\n",
        "model = Sequential()\n",
        "#Adding the first LSTM layer and some Dropout regularisation\n",
        "model.add(LSTM(units = 50, return_sequences = True, input_shape = (X_train.shape[1], 1), activation='tanh'))\n",
        "model.add(Dropout(0.2))\n",
        "# Adding a second LSTM layer and some Dropout regularisation\n",
        "model.add(LSTM(units = 50, return_sequences = True, activation='tanh'))\n",
        "model.add(Dropout(0.2))\n",
        "# Adding a third LSTM layer and some Dropout regularisation\n",
        "model.add(LSTM(units = 50, return_sequences = True, activation='tanh'))\n",
        "model.add(Dropout(0.2))\n",
        "# Adding a fourth LSTM layer and some Dropout regularisation\n",
        "model.add(LSTM(units = 50, activation='tanh'))\n",
        "model.add(Dropout(0.2))\n",
        "# Adding the output layer\n",
        "model.add(Dense(units = 1))\n",
        "# Compiling the RNN\n",
        "model.compile(optimizer = 'adam', loss = 'mean_squared_error')\n",
        "# Fitting the RNN to the Training set\n",
        "model.fit(X_train, y_train, epochs = 200, batch_size = 64)"
      ],
      "execution_count": 21,
      "outputs": [
        {
          "output_type": "stream",
          "name": "stdout",
          "text": [
            "Epoch 1/200\n",
            "15/15 [==============================] - 21s 187ms/step - loss: 0.0736\n",
            "Epoch 2/200\n",
            "15/15 [==============================] - 2s 154ms/step - loss: 0.0152\n",
            "Epoch 3/200\n",
            "15/15 [==============================] - 2s 153ms/step - loss: 0.0081\n",
            "Epoch 4/200\n",
            "15/15 [==============================] - 2s 153ms/step - loss: 0.0054\n",
            "Epoch 5/200\n",
            "15/15 [==============================] - 2s 154ms/step - loss: 0.0053\n",
            "Epoch 6/200\n",
            "15/15 [==============================] - 2s 154ms/step - loss: 0.0047\n",
            "Epoch 7/200\n",
            "15/15 [==============================] - 2s 155ms/step - loss: 0.0046\n",
            "Epoch 8/200\n",
            "15/15 [==============================] - 2s 151ms/step - loss: 0.0055\n",
            "Epoch 9/200\n",
            "15/15 [==============================] - 2s 157ms/step - loss: 0.0048\n",
            "Epoch 10/200\n",
            "15/15 [==============================] - 2s 151ms/step - loss: 0.0049\n",
            "Epoch 11/200\n",
            "15/15 [==============================] - 2s 153ms/step - loss: 0.0044\n",
            "Epoch 12/200\n",
            "15/15 [==============================] - 2s 151ms/step - loss: 0.0045\n",
            "Epoch 13/200\n",
            "15/15 [==============================] - 2s 153ms/step - loss: 0.0051\n",
            "Epoch 14/200\n",
            "15/15 [==============================] - 2s 153ms/step - loss: 0.0036\n",
            "Epoch 15/200\n",
            "15/15 [==============================] - 2s 153ms/step - loss: 0.0037\n",
            "Epoch 16/200\n",
            "15/15 [==============================] - 2s 158ms/step - loss: 0.0038\n",
            "Epoch 17/200\n",
            "15/15 [==============================] - 2s 154ms/step - loss: 0.0036\n",
            "Epoch 18/200\n",
            "15/15 [==============================] - 2s 154ms/step - loss: 0.0034\n",
            "Epoch 19/200\n",
            "15/15 [==============================] - 2s 158ms/step - loss: 0.0039\n",
            "Epoch 20/200\n",
            "15/15 [==============================] - 2s 154ms/step - loss: 0.0039\n",
            "Epoch 21/200\n",
            "15/15 [==============================] - 2s 154ms/step - loss: 0.0037\n",
            "Epoch 22/200\n",
            "15/15 [==============================] - 2s 151ms/step - loss: 0.0031\n",
            "Epoch 23/200\n",
            "15/15 [==============================] - 2s 151ms/step - loss: 0.0032\n",
            "Epoch 24/200\n",
            "15/15 [==============================] - 2s 152ms/step - loss: 0.0034\n",
            "Epoch 25/200\n",
            "15/15 [==============================] - 2s 155ms/step - loss: 0.0031\n",
            "Epoch 26/200\n",
            "15/15 [==============================] - 2s 154ms/step - loss: 0.0032\n",
            "Epoch 27/200\n",
            "15/15 [==============================] - 2s 153ms/step - loss: 0.0032\n",
            "Epoch 28/200\n",
            "15/15 [==============================] - 2s 154ms/step - loss: 0.0031\n",
            "Epoch 29/200\n",
            "15/15 [==============================] - 2s 153ms/step - loss: 0.0029\n",
            "Epoch 30/200\n",
            "15/15 [==============================] - 2s 155ms/step - loss: 0.0026\n",
            "Epoch 31/200\n",
            "15/15 [==============================] - 2s 151ms/step - loss: 0.0029\n",
            "Epoch 32/200\n",
            "15/15 [==============================] - 2s 152ms/step - loss: 0.0031\n",
            "Epoch 33/200\n",
            "15/15 [==============================] - 2s 154ms/step - loss: 0.0028\n",
            "Epoch 34/200\n",
            "15/15 [==============================] - 2s 154ms/step - loss: 0.0026\n",
            "Epoch 35/200\n",
            "15/15 [==============================] - 2s 155ms/step - loss: 0.0027\n",
            "Epoch 36/200\n",
            "15/15 [==============================] - 2s 152ms/step - loss: 0.0026\n",
            "Epoch 37/200\n",
            "15/15 [==============================] - 2s 153ms/step - loss: 0.0028\n",
            "Epoch 38/200\n",
            "15/15 [==============================] - 2s 149ms/step - loss: 0.0025\n",
            "Epoch 39/200\n",
            "15/15 [==============================] - 2s 152ms/step - loss: 0.0032\n",
            "Epoch 40/200\n",
            "15/15 [==============================] - 2s 152ms/step - loss: 0.0025\n",
            "Epoch 41/200\n",
            "15/15 [==============================] - 2s 152ms/step - loss: 0.0025\n",
            "Epoch 42/200\n",
            "15/15 [==============================] - 2s 153ms/step - loss: 0.0025\n",
            "Epoch 43/200\n",
            "15/15 [==============================] - 3s 201ms/step - loss: 0.0025\n",
            "Epoch 44/200\n",
            "15/15 [==============================] - 2s 153ms/step - loss: 0.0024\n",
            "Epoch 45/200\n",
            "15/15 [==============================] - 2s 153ms/step - loss: 0.0025\n",
            "Epoch 46/200\n",
            "15/15 [==============================] - 2s 151ms/step - loss: 0.0024\n",
            "Epoch 47/200\n",
            "15/15 [==============================] - 2s 151ms/step - loss: 0.0024\n",
            "Epoch 48/200\n",
            "15/15 [==============================] - 2s 152ms/step - loss: 0.0023\n",
            "Epoch 49/200\n",
            "15/15 [==============================] - 2s 153ms/step - loss: 0.0024\n",
            "Epoch 50/200\n",
            "15/15 [==============================] - 2s 154ms/step - loss: 0.0023\n",
            "Epoch 51/200\n",
            "15/15 [==============================] - 2s 152ms/step - loss: 0.0026\n",
            "Epoch 52/200\n",
            "15/15 [==============================] - 2s 154ms/step - loss: 0.0021\n",
            "Epoch 53/200\n",
            "15/15 [==============================] - 2s 152ms/step - loss: 0.0022\n",
            "Epoch 54/200\n",
            "15/15 [==============================] - 2s 156ms/step - loss: 0.0022\n",
            "Epoch 55/200\n",
            "15/15 [==============================] - 2s 153ms/step - loss: 0.0022\n",
            "Epoch 56/200\n",
            "15/15 [==============================] - 2s 153ms/step - loss: 0.0021\n",
            "Epoch 57/200\n",
            "15/15 [==============================] - 2s 154ms/step - loss: 0.0024\n",
            "Epoch 58/200\n",
            "15/15 [==============================] - 2s 153ms/step - loss: 0.0026\n",
            "Epoch 59/200\n",
            "15/15 [==============================] - 2s 154ms/step - loss: 0.0023\n",
            "Epoch 60/200\n",
            "15/15 [==============================] - 2s 154ms/step - loss: 0.0020\n",
            "Epoch 61/200\n",
            "15/15 [==============================] - 2s 157ms/step - loss: 0.0023\n",
            "Epoch 62/200\n",
            "15/15 [==============================] - 2s 157ms/step - loss: 0.0024\n",
            "Epoch 63/200\n",
            "15/15 [==============================] - 2s 152ms/step - loss: 0.0024\n",
            "Epoch 64/200\n",
            "15/15 [==============================] - 2s 154ms/step - loss: 0.0025\n",
            "Epoch 65/200\n",
            "15/15 [==============================] - 2s 152ms/step - loss: 0.0020\n",
            "Epoch 66/200\n",
            "15/15 [==============================] - 2s 154ms/step - loss: 0.0020\n",
            "Epoch 67/200\n",
            "15/15 [==============================] - 2s 152ms/step - loss: 0.0018\n",
            "Epoch 68/200\n",
            "15/15 [==============================] - 4s 250ms/step - loss: 0.0019\n",
            "Epoch 69/200\n",
            "15/15 [==============================] - 2s 151ms/step - loss: 0.0021\n",
            "Epoch 70/200\n",
            "15/15 [==============================] - 2s 154ms/step - loss: 0.0022\n",
            "Epoch 71/200\n",
            "15/15 [==============================] - 2s 153ms/step - loss: 0.0019\n",
            "Epoch 72/200\n",
            "15/15 [==============================] - 2s 156ms/step - loss: 0.0020\n",
            "Epoch 73/200\n",
            "15/15 [==============================] - 2s 154ms/step - loss: 0.0019\n",
            "Epoch 74/200\n",
            "15/15 [==============================] - 2s 153ms/step - loss: 0.0021\n",
            "Epoch 75/200\n",
            "15/15 [==============================] - 2s 154ms/step - loss: 0.0019\n",
            "Epoch 76/200\n",
            "15/15 [==============================] - 2s 154ms/step - loss: 0.0019\n",
            "Epoch 77/200\n",
            "15/15 [==============================] - 2s 156ms/step - loss: 0.0019\n",
            "Epoch 78/200\n",
            "15/15 [==============================] - 2s 155ms/step - loss: 0.0019\n",
            "Epoch 79/200\n",
            "15/15 [==============================] - 2s 154ms/step - loss: 0.0020\n",
            "Epoch 80/200\n",
            "15/15 [==============================] - 2s 154ms/step - loss: 0.0020\n",
            "Epoch 81/200\n",
            "15/15 [==============================] - 2s 154ms/step - loss: 0.0020\n",
            "Epoch 82/200\n",
            "15/15 [==============================] - 2s 152ms/step - loss: 0.0021\n",
            "Epoch 83/200\n",
            "15/15 [==============================] - 2s 153ms/step - loss: 0.0019\n",
            "Epoch 84/200\n",
            "15/15 [==============================] - 2s 154ms/step - loss: 0.0021\n",
            "Epoch 85/200\n",
            "15/15 [==============================] - 2s 153ms/step - loss: 0.0019\n",
            "Epoch 86/200\n",
            "15/15 [==============================] - 2s 153ms/step - loss: 0.0019\n",
            "Epoch 87/200\n",
            "15/15 [==============================] - 2s 153ms/step - loss: 0.0020\n",
            "Epoch 88/200\n",
            "15/15 [==============================] - 2s 154ms/step - loss: 0.0017\n",
            "Epoch 89/200\n",
            "15/15 [==============================] - 2s 153ms/step - loss: 0.0020\n",
            "Epoch 90/200\n",
            "15/15 [==============================] - 2s 153ms/step - loss: 0.0018\n",
            "Epoch 91/200\n",
            "15/15 [==============================] - 2s 154ms/step - loss: 0.0020\n",
            "Epoch 92/200\n",
            "15/15 [==============================] - 2s 155ms/step - loss: 0.0019\n",
            "Epoch 93/200\n",
            "15/15 [==============================] - 2s 152ms/step - loss: 0.0017\n",
            "Epoch 94/200\n",
            "15/15 [==============================] - 2s 152ms/step - loss: 0.0017\n",
            "Epoch 95/200\n",
            "15/15 [==============================] - 2s 153ms/step - loss: 0.0016\n",
            "Epoch 96/200\n",
            "15/15 [==============================] - 2s 152ms/step - loss: 0.0017\n",
            "Epoch 97/200\n",
            "15/15 [==============================] - 2s 151ms/step - loss: 0.0018\n",
            "Epoch 98/200\n",
            "15/15 [==============================] - 2s 150ms/step - loss: 0.0017\n",
            "Epoch 99/200\n",
            "15/15 [==============================] - 2s 152ms/step - loss: 0.0016\n",
            "Epoch 100/200\n",
            "15/15 [==============================] - 2s 151ms/step - loss: 0.0018\n",
            "Epoch 101/200\n",
            "15/15 [==============================] - 2s 151ms/step - loss: 0.0018\n",
            "Epoch 102/200\n",
            "15/15 [==============================] - 2s 153ms/step - loss: 0.0016\n",
            "Epoch 103/200\n",
            "15/15 [==============================] - 2s 152ms/step - loss: 0.0017\n",
            "Epoch 104/200\n",
            "15/15 [==============================] - 2s 153ms/step - loss: 0.0016\n",
            "Epoch 105/200\n",
            "15/15 [==============================] - 2s 150ms/step - loss: 0.0017\n",
            "Epoch 106/200\n",
            "15/15 [==============================] - 2s 152ms/step - loss: 0.0018\n",
            "Epoch 107/200\n",
            "15/15 [==============================] - 2s 152ms/step - loss: 0.0017\n",
            "Epoch 108/200\n",
            "15/15 [==============================] - 2s 151ms/step - loss: 0.0016\n",
            "Epoch 109/200\n",
            "15/15 [==============================] - 2s 150ms/step - loss: 0.0015\n",
            "Epoch 110/200\n",
            "15/15 [==============================] - 2s 152ms/step - loss: 0.0014\n",
            "Epoch 111/200\n",
            "15/15 [==============================] - 2s 151ms/step - loss: 0.0016\n",
            "Epoch 112/200\n",
            "15/15 [==============================] - 2s 152ms/step - loss: 0.0016\n",
            "Epoch 113/200\n",
            "15/15 [==============================] - 2s 152ms/step - loss: 0.0015\n",
            "Epoch 114/200\n",
            "15/15 [==============================] - 2s 150ms/step - loss: 0.0013\n",
            "Epoch 115/200\n",
            "15/15 [==============================] - 2s 150ms/step - loss: 0.0015\n",
            "Epoch 116/200\n",
            "15/15 [==============================] - 2s 151ms/step - loss: 0.0014\n",
            "Epoch 117/200\n",
            "15/15 [==============================] - 2s 155ms/step - loss: 0.0015\n",
            "Epoch 118/200\n",
            "15/15 [==============================] - 2s 153ms/step - loss: 0.0017\n",
            "Epoch 119/200\n",
            "15/15 [==============================] - 2s 155ms/step - loss: 0.0017\n",
            "Epoch 120/200\n",
            "15/15 [==============================] - 2s 152ms/step - loss: 0.0017\n",
            "Epoch 121/200\n",
            "15/15 [==============================] - 2s 152ms/step - loss: 0.0014\n",
            "Epoch 122/200\n",
            "15/15 [==============================] - 2s 155ms/step - loss: 0.0013\n",
            "Epoch 123/200\n",
            "15/15 [==============================] - 2s 153ms/step - loss: 0.0015\n",
            "Epoch 124/200\n",
            "15/15 [==============================] - 2s 153ms/step - loss: 0.0014\n",
            "Epoch 125/200\n",
            "15/15 [==============================] - 2s 153ms/step - loss: 0.0015\n",
            "Epoch 126/200\n",
            "15/15 [==============================] - 2s 151ms/step - loss: 0.0015\n",
            "Epoch 127/200\n",
            "15/15 [==============================] - 2s 153ms/step - loss: 0.0015\n",
            "Epoch 128/200\n",
            "15/15 [==============================] - 2s 150ms/step - loss: 0.0014\n",
            "Epoch 129/200\n",
            "15/15 [==============================] - 2s 153ms/step - loss: 0.0014\n",
            "Epoch 130/200\n",
            "15/15 [==============================] - 2s 154ms/step - loss: 0.0013\n",
            "Epoch 131/200\n",
            "15/15 [==============================] - 2s 151ms/step - loss: 0.0016\n",
            "Epoch 132/200\n",
            "15/15 [==============================] - 2s 153ms/step - loss: 0.0015\n",
            "Epoch 133/200\n",
            "15/15 [==============================] - 2s 151ms/step - loss: 0.0013\n",
            "Epoch 134/200\n",
            "15/15 [==============================] - 2s 151ms/step - loss: 0.0013\n",
            "Epoch 135/200\n",
            "15/15 [==============================] - 2s 154ms/step - loss: 0.0015\n",
            "Epoch 136/200\n",
            "15/15 [==============================] - 2s 151ms/step - loss: 0.0014\n",
            "Epoch 137/200\n",
            "15/15 [==============================] - 2s 154ms/step - loss: 0.0015\n",
            "Epoch 138/200\n",
            "15/15 [==============================] - 2s 152ms/step - loss: 0.0014\n",
            "Epoch 139/200\n",
            "15/15 [==============================] - 2s 152ms/step - loss: 0.0016\n",
            "Epoch 140/200\n",
            "15/15 [==============================] - 2s 154ms/step - loss: 0.0013\n",
            "Epoch 141/200\n",
            "15/15 [==============================] - 2s 152ms/step - loss: 0.0014\n",
            "Epoch 142/200\n",
            "15/15 [==============================] - 2s 152ms/step - loss: 0.0013\n",
            "Epoch 143/200\n",
            "15/15 [==============================] - 2s 153ms/step - loss: 0.0014\n",
            "Epoch 144/200\n",
            "15/15 [==============================] - 2s 152ms/step - loss: 0.0013\n",
            "Epoch 145/200\n",
            "15/15 [==============================] - 2s 155ms/step - loss: 0.0013\n",
            "Epoch 146/200\n",
            "15/15 [==============================] - 2s 151ms/step - loss: 0.0018\n",
            "Epoch 147/200\n",
            "15/15 [==============================] - 2s 151ms/step - loss: 0.0015\n",
            "Epoch 148/200\n",
            "15/15 [==============================] - 2s 153ms/step - loss: 0.0015\n",
            "Epoch 149/200\n",
            "15/15 [==============================] - 2s 151ms/step - loss: 0.0014\n",
            "Epoch 150/200\n",
            "15/15 [==============================] - 2s 152ms/step - loss: 0.0015\n",
            "Epoch 151/200\n",
            "15/15 [==============================] - 2s 151ms/step - loss: 0.0012\n",
            "Epoch 152/200\n",
            "15/15 [==============================] - 2s 152ms/step - loss: 0.0013\n",
            "Epoch 153/200\n",
            "15/15 [==============================] - 2s 152ms/step - loss: 0.0012\n",
            "Epoch 154/200\n",
            "15/15 [==============================] - 2s 151ms/step - loss: 0.0011\n",
            "Epoch 155/200\n",
            "15/15 [==============================] - 2s 152ms/step - loss: 0.0013\n",
            "Epoch 156/200\n",
            "15/15 [==============================] - 2s 154ms/step - loss: 0.0014\n",
            "Epoch 157/200\n",
            "15/15 [==============================] - 2s 152ms/step - loss: 0.0015\n",
            "Epoch 158/200\n",
            "15/15 [==============================] - 2s 151ms/step - loss: 0.0013\n",
            "Epoch 159/200\n",
            "15/15 [==============================] - 2s 150ms/step - loss: 0.0013\n",
            "Epoch 160/200\n",
            "15/15 [==============================] - 2s 151ms/step - loss: 0.0012\n",
            "Epoch 161/200\n",
            "15/15 [==============================] - 2s 153ms/step - loss: 0.0013\n",
            "Epoch 162/200\n",
            "15/15 [==============================] - 2s 152ms/step - loss: 0.0012\n",
            "Epoch 163/200\n",
            "15/15 [==============================] - 2s 153ms/step - loss: 0.0012\n",
            "Epoch 164/200\n",
            "15/15 [==============================] - 2s 152ms/step - loss: 0.0012\n",
            "Epoch 165/200\n",
            "15/15 [==============================] - 2s 153ms/step - loss: 0.0014\n",
            "Epoch 166/200\n",
            "15/15 [==============================] - 2s 154ms/step - loss: 0.0015\n",
            "Epoch 167/200\n",
            "15/15 [==============================] - 2s 153ms/step - loss: 0.0011\n",
            "Epoch 168/200\n",
            "15/15 [==============================] - 2s 151ms/step - loss: 0.0013\n",
            "Epoch 169/200\n",
            "15/15 [==============================] - 2s 153ms/step - loss: 0.0012\n",
            "Epoch 170/200\n",
            "15/15 [==============================] - 2s 153ms/step - loss: 0.0013\n",
            "Epoch 171/200\n",
            "15/15 [==============================] - 2s 153ms/step - loss: 0.0012\n",
            "Epoch 172/200\n",
            "15/15 [==============================] - 2s 153ms/step - loss: 0.0013\n",
            "Epoch 173/200\n",
            "15/15 [==============================] - 2s 152ms/step - loss: 0.0012\n",
            "Epoch 174/200\n",
            "15/15 [==============================] - 2s 154ms/step - loss: 0.0012\n",
            "Epoch 175/200\n",
            "15/15 [==============================] - 2s 152ms/step - loss: 0.0011\n",
            "Epoch 176/200\n",
            "15/15 [==============================] - 2s 152ms/step - loss: 0.0011\n",
            "Epoch 177/200\n",
            "15/15 [==============================] - 2s 151ms/step - loss: 0.0011\n",
            "Epoch 178/200\n",
            "15/15 [==============================] - 2s 152ms/step - loss: 0.0011\n",
            "Epoch 179/200\n",
            "15/15 [==============================] - 2s 153ms/step - loss: 0.0010\n",
            "Epoch 180/200\n",
            "15/15 [==============================] - 2s 153ms/step - loss: 0.0011\n",
            "Epoch 181/200\n",
            "15/15 [==============================] - 2s 153ms/step - loss: 0.0011\n",
            "Epoch 182/200\n",
            "15/15 [==============================] - 2s 153ms/step - loss: 0.0013\n",
            "Epoch 183/200\n",
            "15/15 [==============================] - 2s 151ms/step - loss: 0.0010\n",
            "Epoch 184/200\n",
            "15/15 [==============================] - 2s 152ms/step - loss: 0.0011\n",
            "Epoch 185/200\n",
            "15/15 [==============================] - 2s 153ms/step - loss: 0.0012\n",
            "Epoch 186/200\n",
            "15/15 [==============================] - 2s 152ms/step - loss: 0.0011\n",
            "Epoch 187/200\n",
            "15/15 [==============================] - 2s 153ms/step - loss: 9.9812e-04\n",
            "Epoch 188/200\n",
            "15/15 [==============================] - 2s 154ms/step - loss: 0.0011\n",
            "Epoch 189/200\n",
            "15/15 [==============================] - 2s 153ms/step - loss: 9.8811e-04\n",
            "Epoch 190/200\n",
            "15/15 [==============================] - 2s 153ms/step - loss: 0.0011\n",
            "Epoch 191/200\n",
            "15/15 [==============================] - 2s 153ms/step - loss: 0.0011\n",
            "Epoch 192/200\n",
            "15/15 [==============================] - 2s 151ms/step - loss: 9.7096e-04\n",
            "Epoch 193/200\n",
            "15/15 [==============================] - 2s 155ms/step - loss: 0.0010\n",
            "Epoch 194/200\n",
            "15/15 [==============================] - 2s 155ms/step - loss: 0.0010\n",
            "Epoch 195/200\n",
            "15/15 [==============================] - 2s 154ms/step - loss: 0.0011\n",
            "Epoch 196/200\n",
            "15/15 [==============================] - 2s 156ms/step - loss: 0.0010\n",
            "Epoch 197/200\n",
            "15/15 [==============================] - 2s 159ms/step - loss: 0.0010\n",
            "Epoch 198/200\n",
            "15/15 [==============================] - 2s 153ms/step - loss: 0.0011\n",
            "Epoch 199/200\n",
            "15/15 [==============================] - 2s 154ms/step - loss: 0.0011\n",
            "Epoch 200/200\n",
            "15/15 [==============================] - 2s 154ms/step - loss: 0.0010\n"
          ]
        },
        {
          "output_type": "execute_result",
          "data": {
            "text/plain": [
              "<keras.callbacks.History at 0x7f509d5eee90>"
            ]
          },
          "metadata": {},
          "execution_count": 21
        }
      ]
    },
    {
      "cell_type": "markdown",
      "metadata": {
        "id": "VBvC_vU-IXAE"
      },
      "source": [
        "### Create test set"
      ]
    },
    {
      "cell_type": "code",
      "metadata": {
        "id": "yRa3UBDJRvhw"
      },
      "source": [
        "test = rel_adj_arr[training_data_len: , :]"
      ],
      "execution_count": 22,
      "outputs": []
    },
    {
      "cell_type": "code",
      "metadata": {
        "colab": {
          "base_uri": "https://localhost:8080/"
        },
        "id": "Oau4UaBaIZFo",
        "outputId": "4db866af-da38-42c2-83ab-64f70432ee88"
      },
      "source": [
        "test.shape"
      ],
      "execution_count": 23,
      "outputs": [
        {
          "output_type": "execute_result",
          "data": {
            "text/plain": [
              "(247, 1)"
            ]
          },
          "metadata": {},
          "execution_count": 23
        }
      ]
    },
    {
      "cell_type": "code",
      "metadata": {
        "id": "_VtmWBHeJbiy"
      },
      "source": [
        "# Predicting 247 values, using past 60 from the train data\n",
        "inputs = rel_adj_arr[len(rel_adj_arr) - len(test) - 60:]\n",
        "inputs = inputs.reshape(-1,1)\n",
        "inputs  = scaler.transform(inputs)"
      ],
      "execution_count": 24,
      "outputs": []
    },
    {
      "cell_type": "code",
      "metadata": {
        "id": "4DhTFCF0JnAR"
      },
      "source": [
        "# Create data sets X_test and y_test\n",
        "X_test = []\n",
        "y_test = rel_adj_arr[training_data_len:, :]\n",
        "for i in range(60,inputs.shape[0]):\n",
        "    X_test.append(inputs[i-60:i,0])"
      ],
      "execution_count": 25,
      "outputs": []
    },
    {
      "cell_type": "code",
      "metadata": {
        "id": "7eu95NzSJyp4"
      },
      "source": [
        "# Convert data to numpy array\n",
        "X_test = np.array(X_test)"
      ],
      "execution_count": 26,
      "outputs": []
    },
    {
      "cell_type": "code",
      "metadata": {
        "id": "ZAsaA4HlJ0qd"
      },
      "source": [
        "# Reshape data to be 3-D\n",
        "X_test = np.reshape(X_test, (X_test.shape[0], X_test.shape[1], 1))"
      ],
      "execution_count": 27,
      "outputs": []
    },
    {
      "cell_type": "code",
      "metadata": {
        "colab": {
          "base_uri": "https://localhost:8080/"
        },
        "id": "MvvdtFwmJ3U8",
        "outputId": "c1608e2e-4efd-4057-86b1-01cf5df85f62"
      },
      "source": [
        "print(X_test.shape)"
      ],
      "execution_count": 28,
      "outputs": [
        {
          "output_type": "stream",
          "name": "stdout",
          "text": [
            "(247, 60, 1)\n"
          ]
        }
      ]
    },
    {
      "cell_type": "markdown",
      "metadata": {
        "id": "kTMfgcN-OBbP"
      },
      "source": [
        "### Make Predictions using the test set"
      ]
    },
    {
      "cell_type": "code",
      "metadata": {
        "id": "o3viU3AtJ52z"
      },
      "source": [
        "# We want predictions to contain same values as y_test data set\n",
        "predictions = model.predict(X_test)\n",
        "predictions = scaler.inverse_transform(predictions)"
      ],
      "execution_count": 29,
      "outputs": []
    },
    {
      "cell_type": "code",
      "metadata": {
        "colab": {
          "base_uri": "https://localhost:8080/"
        },
        "id": "mLRcbQTgJ9g7",
        "outputId": "a40ccd63-1db5-4c13-ccd4-f786159fb068"
      },
      "source": [
        "predictions.shape"
      ],
      "execution_count": 30,
      "outputs": [
        {
          "output_type": "execute_result",
          "data": {
            "text/plain": [
              "(247, 1)"
            ]
          },
          "metadata": {},
          "execution_count": 30
        }
      ]
    },
    {
      "cell_type": "markdown",
      "metadata": {
        "id": "lJc5utZCOq48"
      },
      "source": [
        "### Calculate the RMSE using the actual values\n",
        "\n",
        "RMSE is the standard deviation of the residuals and is a good measure of how accurately the model predicts the reponse. Lower values of RMSE indicate a better fit."
      ]
    },
    {
      "cell_type": "code",
      "metadata": {
        "colab": {
          "base_uri": "https://localhost:8080/"
        },
        "id": "oKgR_WslgLx1",
        "outputId": "729e9282-82f6-49ba-889c-20eec8d464a6"
      },
      "source": [
        "rmse = np.sqrt(np.mean(predictions - y_test)**2)  \n",
        "rmse"
      ],
      "execution_count": 31,
      "outputs": [
        {
          "output_type": "execute_result",
          "data": {
            "text/plain": [
              "23.299170119559715"
            ]
          },
          "metadata": {},
          "execution_count": 31
        }
      ]
    },
    {
      "cell_type": "code",
      "metadata": {
        "colab": {
          "base_uri": "https://localhost:8080/",
          "height": 634
        },
        "id": "YJJqs8AngRn8",
        "outputId": "7002571d-25eb-472d-ac75-e8c0e08e8694"
      },
      "source": [
        "# Plot predicted vs actual values  \n",
        "train = rel_adj[:training_data_len]\n",
        "test = rel_adj[training_data_len:]\n",
        "test['Predictions'] = predictions\n",
        "\n",
        "plt.figure(figsize=(20,10))\n",
        "sns.set_style(\"whitegrid\")\n",
        "plt.plot(train['Adj Close'], label='Training')\n",
        "plt.plot(test['Adj Close'], label='Actual')\n",
        "plt.plot(test['Predictions'], label='Predicted')\n",
        "plt.title(\"REL Close Price - LSTM\", color = 'black', fontsize = 20)\n",
        "plt.xlabel('Year', color = 'black', fontsize = 15)\n",
        "plt.ylabel('Stock Price', color = 'black', fontsize = 15)\n",
        "plt.legend();"
      ],
      "execution_count": 32,
      "outputs": [
        {
          "output_type": "display_data",
          "data": {
            "text/plain": [
              "<Figure size 1440x720 with 1 Axes>"
            ],
            "image/png": "[encoded data removed]"
          },
          "metadata": {}
        }
      ]
    },
    {
      "cell_type": "markdown",
      "metadata": {
        "id": "_E01zyR8094G"
      },
      "source": [
        "### DataFrame of actual vs predicted prices plotted above"
      ]
    },
    {
      "cell_type": "code",
      "metadata": {
        "colab": {
          "base_uri": "https://localhost:8080/",
          "height": 455
        },
        "id": "G3jVmbApP0ZD",
        "outputId": "c99b81c3-f527-434b-e2a3-37c6cf080c7e"
      },
      "source": [
        "# Show the actual and predicted prices  \n",
        "\n",
        "test"
      ],
      "execution_count": 33,
      "outputs": [
        {
          "output_type": "execute_result",
          "data": {
            "text/plain": [
              "              Adj Close  Predictions\n",
              "Date                                \n",
              "2020-07-16  1837.489014  1875.964722\n",
              "2020-07-17  1905.569824  1814.390015\n",
              "2020-07-20  1913.743652  1820.742432\n",
              "2020-07-21  1965.228027  1879.309570\n",
              "2020-07-22  1997.573975  1944.889282\n",
              "...                 ...          ...\n",
              "2021-07-05  2150.199951  2090.022217\n",
              "2021-07-06  2124.800049  2103.784180\n",
              "2021-07-07  2110.050049  2105.576904\n",
              "2021-07-08  2092.600098  2089.343262\n",
              "2021-07-09  2071.199951  2066.742432\n",
              "\n",
              "[247 rows x 2 columns]"
            ],
            "text/html": [
              "\n",
              "  <div id=\"df-eeed359e-af38-499e-8963-051af0b04dbf\">\n",
              "    <div class=\"colab-df-container\">\n",
              "      <div>\n",
              "<style scoped>\n",
              "    .dataframe tbody tr th:only-of-type {\n",
              "        vertical-align: middle;\n",
              "    }\n",
              "\n",
              "    .dataframe tbody tr th {\n",
              "        vertical-align: top;\n",
              "    }\n",
              "\n",
              "    .dataframe thead th {\n",
              "        text-align: right;\n",
              "    }\n",
              "</style>\n",
              "<table border=\"1\" class=\"dataframe\">\n",
              "  <thead>\n",
              "    <tr style=\"text-align: right;\">\n",
              "      <th></th>\n",
              "      <th>Adj Close</th>\n",
              "      <th>Predictions</th>\n",
              "    </tr>\n",
              "    <tr>\n",
              "      <th>Date</th>\n",
              "      <th></th>\n",
              "      <th></th>\n",
              "    </tr>\n",
              "  </thead>\n",
              "  <tbody>\n",
              "    <tr>\n",
              "      <th>2020-07-16</th>\n",
              "      <td>1837.489014</td>\n",
              "      <td>1875.964722</td>\n",
              "    </tr>\n",
              "    <tr>\n",
              "      <th>2020-07-17</th>\n",
              "      <td>1905.569824</td>\n",
              "      <td>1814.390015</td>\n",
              "    </tr>\n",
              "    <tr>\n",
              "      <th>2020-07-20</th>\n",
              "      <td>1913.743652</td>\n",
              "      <td>1820.742432</td>\n",
              "    </tr>\n",
              "    <tr>\n",
              "      <th>2020-07-21</th>\n",
              "      <td>1965.228027</td>\n",
              "      <td>1879.309570</td>\n",
              "    </tr>\n",
              "    <tr>\n",
              "      <th>2020-07-22</th>\n",
              "      <td>1997.573975</td>\n",
              "      <td>1944.889282</td>\n",
              "    </tr>\n",
              "    <tr>\n",
              "      <th>...</th>\n",
              "      <td>...</td>\n",
              "      <td>...</td>\n",
              "    </tr>\n",
              "    <tr>\n",
              "      <th>2021-07-05</th>\n",
              "      <td>2150.199951</td>\n",
              "      <td>2090.022217</td>\n",
              "    </tr>\n",
              "    <tr>\n",
              "      <th>2021-07-06</th>\n",
              "      <td>2124.800049</td>\n",
              "      <td>2103.784180</td>\n",
              "    </tr>\n",
              "    <tr>\n",
              "      <th>2021-07-07</th>\n",
              "      <td>2110.050049</td>\n",
              "      <td>2105.576904</td>\n",
              "    </tr>\n",
              "    <tr>\n",
              "      <th>2021-07-08</th>\n",
              "      <td>2092.600098</td>\n",
              "      <td>2089.343262</td>\n",
              "    </tr>\n",
              "    <tr>\n",
              "      <th>2021-07-09</th>\n",
              "      <td>2071.199951</td>\n",
              "      <td>2066.742432</td>\n",
              "    </tr>\n",
              "  </tbody>\n",
              "</table>\n",
              "<p>247 rows × 2 columns</p>\n",
              "</div>\n",
              "      <button class=\"colab-df-convert\" onclick=\"convertToInteractive('df-eeed359e-af38-499e-8963-051af0b04dbf')\"\n",
              "              title=\"Convert this dataframe to an interactive table.\"\n",
              "              style=\"display:none;\">\n",
              "        \n",
              "  <svg xmlns=\"http://www.w3.org/2000/svg\" height=\"24px\"viewBox=\"0 0 24 24\"\n",
              "       width=\"24px\">\n",
              "    <path d=\"M0 0h24v24H0V0z\" fill=\"none\"/>\n",
              "    <path d=\"M18.56 5.44l.94 2.06.94-2.06 2.06-.94-2.06-.94-.94-2.06-.94 2.06-2.06.94zm-11 1L8.5 8.5l.94-2.06 2.06-.94-2.06-.94L8.5 2.5l-.94 2.06-2.06.94zm10 10l.94 2.06.94-2.06 2.06-.94-2.06-.94-.94-2.06-.94 2.06-2.06.94z\"/><path d=\"M17.41 7.96l-1.37-1.37c-.4-.4-.92-.59-1.43-.59-.52 0-1.04.2-1.43.59L10.3 9.45l-7.72 7.72c-.78.78-.78 2.05 0 2.83L4 21.41c.39.39.9.59 1.41.59.51 0 1.02-.2 1.41-.59l7.78-7.78 2.81-2.81c.8-.78.8-2.07 0-2.86zM5.41 20L4 18.59l7.72-7.72 1.47 1.35L5.41 20z\"/>\n",
              "  </svg>\n",
              "      </button>\n",
              "      \n",
              "  <style>\n",
              "    .colab-df-container {\n",
              "      display:flex;\n",
              "      flex-wrap:wrap;\n",
              "      gap: 12px;\n",
              "    }\n",
              "\n",
              "    .colab-df-convert {\n",
              "      background-color: #E8F0FE;\n",
              "      border: none;\n",
              "      border-radius: 50%;\n",
              "      cursor: pointer;\n",
              "      display: none;\n",
              "      fill: #1967D2;\n",
              "      height: 32px;\n",
              "      padding: 0 0 0 0;\n",
              "      width: 32px;\n",
              "    }\n",
              "\n",
              "    .colab-df-convert:hover {\n",
              "      background-color: #E2EBFA;\n",
              "      box-shadow: 0px 1px 2px rgba(60, 64, 67, 0.3), 0px 1px 3px 1px rgba(60, 64, 67, 0.15);\n",
              "      fill: #174EA6;\n",
              "    }\n",
              "\n",
              "    [theme=dark] .colab-df-convert {\n",
              "      background-color: #3B4455;\n",
              "      fill: #D2E3FC;\n",
              "    }\n",
              "\n",
              "    [theme=dark] .colab-df-convert:hover {\n",
              "      background-color: #434B5C;\n",
              "      box-shadow: 0px 1px 3px 1px rgba(0, 0, 0, 0.15);\n",
              "      filter: drop-shadow(0px 1px 2px rgba(0, 0, 0, 0.3));\n",
              "      fill: #FFFFFF;\n",
              "    }\n",
              "  </style>\n",
              "\n",
              "      <script>\n",
              "        const buttonEl =\n",
              "          document.querySelector('#df-eeed359e-af38-499e-8963-051af0b04dbf button.colab-df-convert');\n",
              "        buttonEl.style.display =\n",
              "          google.colab.kernel.accessAllowed ? 'block' : 'none';\n",
              "\n",
              "        async function convertToInteractive(key) {\n",
              "          const element = document.querySelector('#df-eeed359e-af38-499e-8963-051af0b04dbf');\n",
              "          const dataTable =\n",
              "            await google.colab.kernel.invokeFunction('convertToInteractive',\n",
              "                                                     [key], {});\n",
              "          if (!dataTable) return;\n",
              "\n",
              "          const docLinkHtml = 'Like what you see? Visit the ' +\n",
              "            '<a target=\"_blank\" href=https://colab.research.google.com/notebooks/data_table.ipynb>data table notebook</a>'\n",
              "            + ' to learn more about interactive tables.';\n",
              "          element.innerHTML = '';\n",
              "          dataTable['output_type'] = 'display_data';\n",
              "          await google.colab.output.renderOutput(dataTable, element);\n",
              "          const docLink = document.createElement('div');\n",
              "          docLink.innerHTML = docLinkHtml;\n",
              "          element.appendChild(docLink);\n",
              "        }\n",
              "      </script>\n",
              "    </div>\n",
              "  </div>\n",
              "  "
            ]
          },
          "metadata": {},
          "execution_count": 33
        }
      ]
    },
    {
      "cell_type": "markdown",
      "metadata": {
        "id": "6cXvKTUw1Twj"
      },
      "source": [
        "### Predict Adjusted Close price for 12 July 2021"
      ]
    },
    {
      "cell_type": "code",
      "metadata": {
        "colab": {
          "base_uri": "https://localhost:8080/"
        },
        "id": "7IP1b7iIP5sj",
        "outputId": "e5dd7bd6-53e7-4a04-bde8-d6544f76a5fe"
      },
      "source": [
        "# Predict Adjusted Close price for AZN stock for 11 Jul 2021   \n",
        "# get the quote\n",
        "rel_quote = yf.download(\"RELIANCE.NS\", start=\"2017-07-12\", end=\"2021-07-13\")\n",
        "# Create new df\n",
        "new_df = rel_quote.filter(['Adj Close'])\n",
        "# Get last 60 days closing price and convert df to array])\n",
        "last_60_days = new_df[-60:].values\n",
        "# Scale data to be values between 0 and 1\n",
        "last_60_days_scaled = scaler.transform(last_60_days)\n",
        "# Create empty list\n",
        "X_test = []\n",
        "# Append last 60 days \n",
        "X_test.append(last_60_days_scaled)\n",
        "# Convert the X_test data set to numpy array\n",
        "X_test = np.array(X_test)\n",
        "# Reshape data\n",
        "X_test = np.reshape(X_test, (X_test.shape[0], X_test.shape[1], 1))\n",
        "# Get predicted price\n",
        "pred_price = model.predict(X_test)\n",
        "# Undo the scaling\n",
        "pred_price = scaler.inverse_transform(pred_price)\n",
        "print(pred_price)"
      ],
      "execution_count": 41,
      "outputs": [
        {
          "output_type": "stream",
          "name": "stdout",
          "text": [
            "\r[*********************100%***********************]  1 of 1 completed\n",
            "[[2048.2712]]\n"
          ]
        }
      ]
    },
    {
      "cell_type": "markdown",
      "metadata": {
        "id": "myiZBh-b39f2"
      },
      "source": [
        "### Actual Adjusted Close price for 12 July 2021"
      ]
    },
    {
      "cell_type": "code",
      "metadata": {
        "colab": {
          "base_uri": "https://localhost:8080/"
        },
        "id": "h4-hnAoKP-Xb",
        "outputId": "57a8b33b-0b50-428b-eb5b-2997d94d27bd"
      },
      "source": [
        "# Actual price\n",
        "rel_quote2 = yf.download(\"RELIANCE.NS\", start=\"2021-07-12\", end=\"2021-07-13\")\n",
        "print(rel_quote2['Adj Close'])"
      ],
      "execution_count": 40,
      "outputs": [
        {
          "output_type": "stream",
          "name": "stdout",
          "text": [
            "\r[*********************100%***********************]  1 of 1 completed\n",
            "Date\n",
            "2021-07-12    2084.100098\n",
            "Name: Adj Close, dtype: float64\n"
          ]
        }
      ]
    },
    {
      "cell_type": "markdown",
      "metadata": {
        "id": "YdUAebzNcKfP"
      },
      "source": [
        "The predicted Adjusted Close price for 12 July 2021 was 2048.3, lower than the actual price of 2084.1. Accuracy could be improved by trying different numbers of layers, epochs and batch sizes. "
      ]
    }
  ]
}